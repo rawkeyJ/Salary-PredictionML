{
 "cells": [
  {
   "cell_type": "code",
   "execution_count": 1,
   "id": "654aa3f9",
   "metadata": {},
   "outputs": [],
   "source": [
    "from flask import Flask, make_response, request, render_template\n",
    "import io\n",
    "import pickle\n",
    "from io import StringIO\n",
    "import pandas as pd\n",
    "import numpy as np\n",
    "import seaborn as sns\n",
    "import matplotlib.pyplot as plt\n",
    "%matplotlib inline\n",
    "from sklearn.preprocessing import StandardScaler\n",
    "from sklearn.linear_model import LogisticRegression"
   ]
  },
  {
   "cell_type": "code",
   "execution_count": 2,
   "id": "d3ea5860",
   "metadata": {},
   "outputs": [],
   "source": [
    "app = Flask(__name__)"
   ]
  },
  {
   "cell_type": "code",
   "execution_count": null,
   "id": "b588c223",
   "metadata": {},
   "outputs": [
    {
     "name": "stdout",
     "output_type": "stream",
     "text": [
      " * Serving Flask app \"__main__\" (lazy loading)\n",
      " * Environment: production\n",
      "\u001b[31m   WARNING: This is a development server. Do not use it in a production deployment.\u001b[0m\n",
      "\u001b[2m   Use a production WSGI server instead.\u001b[0m\n",
      " * Debug mode: off\n"
     ]
    },
    {
     "name": "stderr",
     "output_type": "stream",
     "text": [
      " * Running on http://127.0.0.1:9000/ (Press CTRL+C to quit)\n",
      "127.0.0.1 - - [20/Apr/2022 09:34:19] \"GET / HTTP/1.1\" 200 -\n",
      "127.0.0.1 - - [20/Apr/2022 09:34:26] \"POST /predict HTTP/1.1\" 200 -\n"
     ]
    },
    {
     "name": "stdout",
     "output_type": "stream",
     "text": [
      "LogisticRegression()\n"
     ]
    },
    {
     "name": "stderr",
     "output_type": "stream",
     "text": [
      "127.0.0.1 - - [20/Apr/2022 09:34:49] \"POST /predict HTTP/1.1\" 200 -\n"
     ]
    },
    {
     "name": "stdout",
     "output_type": "stream",
     "text": [
      "LogisticRegression()\n"
     ]
    }
   ],
   "source": [
    "def feature_eng(df):\n",
    "    df.columns = ['age', 'workclass','fnlwgt', 'education','educational-num', 'marital-status', 'occupation', 'relationship',\n",
    "        'race', 'gender','capital-gain', 'capital-loss', 'hours-per-week', 'native-country']\n",
    "    \n",
    "    df = df.drop('fnlwgt',axis=1)\n",
    "    \n",
    "    df['gender'] = np.where(df['gender'] == \"Male\",1,0)\n",
    "    \n",
    "    clmtitle_enco_race = {value: key for key, value in enumerate(df['race'].unique())}\n",
    "    df['race'] = df['race'].map(clmtitle_enco_race)\n",
    "    \n",
    "    clmtitle_enco_relationship = {value: key for key, value in enumerate(df['relationship'].unique())}\n",
    "    df['relationship'] = df['relationship'].map(clmtitle_enco_relationship)\n",
    "    \n",
    "    clmtitle_enco_occupation = {value: key for key, value in enumerate(df['occupation'].unique())}\n",
    "    df['occupation'] = df['occupation'].map(clmtitle_enco_occupation)\n",
    "    \n",
    "    clmtitle_enco_maritalstatus = {value: key for key, value in enumerate(df['marital-status'].unique())}\n",
    "    df['marital-status'] = df['marital-status'].map(clmtitle_enco_maritalstatus)\n",
    "    \n",
    "    clmtitle_enco_education = {value: key for key, value in enumerate(df['education'].unique())}\n",
    "    df['education'] = df['education'].map(clmtitle_enco_education)\n",
    "    \n",
    "    clmtitle_enco_workclass = {value: key for key, value in enumerate(df['workclass'].unique())}\n",
    "    df['workclass'] = df['workclass'].map(clmtitle_enco_workclass)\n",
    "    \n",
    "    df['native-country'] = np.where(df['native-country'] == '?', 'Missing', df['native-country'])\n",
    "    clmtitle_enco_nativecountry = {value: key for key, value in enumerate(df['native-country'].unique())}\n",
    "    df['native-country'] = df['native-country'].map(clmtitle_enco_nativecountry)\n",
    "    \n",
    "    return df\n",
    "\n",
    "def scaler(df):\n",
    "    sc = StandardScaler()\n",
    "    X = df[['age', 'workclass', 'education','educational-num', 'marital-status', 'occupation', 'relationship',\n",
    "        'race', 'gender','capital-gain', 'capital-loss', 'hours-per-week', 'native-country']]\n",
    "    X = sc.fit_transform(X)\n",
    "    return(X)\n",
    "\n",
    "\n",
    "@app.route('/', methods=['GET'])\n",
    "def Home():\n",
    "    return render_template('index.html')\n",
    "\n",
    "@app.route('/predict', methods=[\"POST\"])\n",
    "def predict():\n",
    "    f = request.files['data_file']\n",
    "    if not f:\n",
    "        return render_template('index.html', prediction_text=\"No file selected\")\n",
    "    \n",
    "    stream = io.StringIO(f.stream.read().decode(\"UTF8\"), newline=None)\n",
    "    result = stream.read()\n",
    "    df = pd.read_csv(StringIO(result))\n",
    "    \n",
    "    \n",
    "    df = feature_eng(df)\n",
    "    \n",
    "    X = scaler(df)\n",
    "    \n",
    "    loaded_model = pickle.load(open('lg_model_ml','rb'))\n",
    "    \n",
    "    print(loaded_model)\n",
    "    \n",
    "    result = loaded_model.predict(X)\n",
    "    \n",
    "    return render_template('index.html', prediction_text=\"Predicted Salary is/are: {}\".format(result))\n",
    "\n",
    "if __name__ == \"__main__\":\n",
    "    app.run(debug=False,port=9000)\n"
   ]
  }
 ],
 "metadata": {
  "kernelspec": {
   "display_name": "Python 3 (ipykernel)",
   "language": "python",
   "name": "python3"
  },
  "language_info": {
   "codemirror_mode": {
    "name": "ipython",
    "version": 3
   },
   "file_extension": ".py",
   "mimetype": "text/x-python",
   "name": "python",
   "nbconvert_exporter": "python",
   "pygments_lexer": "ipython3",
   "version": "3.9.7"
  }
 },
 "nbformat": 4,
 "nbformat_minor": 5
}
